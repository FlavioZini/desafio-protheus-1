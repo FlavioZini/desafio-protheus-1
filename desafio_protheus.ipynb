{
  "nbformat": 4,
  "nbformat_minor": 0,
  "metadata": {
    "colab": {
      "provenance": [],
      "toc_visible": true
    },
    "kernelspec": {
      "name": "python3",
      "display_name": "Python 3"
    },
    "language_info": {
      "name": "python"
    }
  },
  "cells": [
    {
      "cell_type": "markdown",
      "source": [
        "Desafio Protheus\n",
        "\n",
        "\n",
        "1.   Instala o pacote FPDF no ambiente ***Python***\n",
        "\n",
        "\n",
        "\n",
        "\n"
      ],
      "metadata": {
        "id": "AKCHBPV3ctSt"
      }
    },
    {
      "cell_type": "code",
      "source": [
        "!pip install fpdf"
      ],
      "metadata": {
        "id": "PYOp_aMvUXkB"
      },
      "execution_count": null,
      "outputs": []
    },
    {
      "cell_type": "markdown",
      "source": [
        "2.   Importa as bibliotecas necessárias para o projeto\n"
      ],
      "metadata": {
        "id": "MlcL37DEjYoi"
      }
    },
    {
      "cell_type": "code",
      "source": [
        "import sqlite3\n",
        "import requests\n",
        "import json\n",
        "from datetime import datetime\n",
        "from fpdf import FPDF"
      ],
      "metadata": {
        "id": "Wd2bOpvn9jvJ"
      },
      "execution_count": null,
      "outputs": []
    },
    {
      "cell_type": "markdown",
      "source": [
        "3.   Cria uma conexão com o banco de dados ***desafio_protheus.bd*** e cria as tabelas:\n"
      ],
      "metadata": {
        "id": "y5a2O1zjig-V"
      }
    },
    {
      "cell_type": "code",
      "source": [
        "# Cria uma conexão com o banco de dados desafio_protheus.bd\n",
        "conn = sqlite3.connect('desafio_protheus.bd')\n",
        "\n",
        "# Cria a tabela Acao no BD\n",
        "cursor = conn.cursor()\n",
        "cursor.execute('''\n",
        "    CREATE TABLE IF NOT EXISTS Acao (\n",
        "        idAcao INTEGER PRIMARY KEY,\n",
        "        simbolo TEXT,\n",
        "        nome TEXT\n",
        "    )\n",
        "''')\n",
        "\n",
        "# Cria a tabela Cotacao no BD\n",
        "cursor.execute('''\n",
        "    CREATE TABLE IF NOT EXISTS Cotacao (\n",
        "        idAcao INTEGER,\n",
        "        idCotacao INTEGER PRIMARY KEY,\n",
        "        Cotacao FLOAT,\n",
        "        ValorMercado FLOAT,\n",
        "        VolumeTransacoes FLOAT,\n",
        "        Moeda TEXT,\n",
        "        Data DATETIME,\n",
        "        FOREIGN KEY (idAcao) REFERENCES Acao(idAcao)\n",
        "    )\n",
        "''')"
      ],
      "metadata": {
        "id": "cglEaL6-EQx7"
      },
      "execution_count": null,
      "outputs": []
    },
    {
      "cell_type": "markdown",
      "source": [
        "\n",
        "\n",
        "4.   Faz o download da lista de ações disponíveis na ***API***\n",
        "\n",
        "\n"
      ],
      "metadata": {
        "id": "XIJ4wJhRfjuU"
      }
    },
    {
      "cell_type": "code",
      "source": [
        "# URL da API\n",
        "url = 'https://brapi.dev/api/available'\n",
        "\n",
        "# Faz a solicitação GET\n",
        "response = requests.get(url)\n",
        "\n",
        "# Verifica se a resposta foi bem-sucedida\n",
        "if response.status_code != 200:\n",
        "    print('Erro ao conectar na API')\n",
        "    exit()\n",
        "\n",
        "# Converte a resposta para um objeto Python\n",
        "data = json.loads(response.text)\n",
        "\n",
        "# Cria um objeto Python com as siglas\n",
        "siglas = {'siglas': data['stocks']}\n",
        "\n",
        "# Escreve o objeto Python em um arquivo JSON\n",
        "with open('siglas.json', 'w') as f:\n",
        "    json.dump(siglas, f)\n",
        "print('---------------------------------')\n",
        "print('|Siglas armazenadas com sucesso!|')\n",
        "print('---------------------------------')"
      ],
      "metadata": {
        "id": "fo6Zz9ZxIES9"
      },
      "execution_count": null,
      "outputs": []
    },
    {
      "cell_type": "markdown",
      "source": [
        "\n",
        "\n",
        "5.   Faz uma solicitação GET para a API da ***brapi.dev*** para cada sigla presente no arquivo ***siglas.json***\n",
        "\n",
        "\n"
      ],
      "metadata": {
        "id": "7GyiJsxbe2Mr"
      }
    },
    {
      "cell_type": "code",
      "source": [
        "# Função para inserir os dados da cotação no banco de dados\n",
        "def inserir_cotacao_bd(simbolo, nome, cotacao, valor_mercado, volume_transacoes, moeda, data):\n",
        "    conn = sqlite3.connect('desafio_protheus.bd')\n",
        "    cursor = conn.cursor()\n",
        "    \n",
        "    # Verificar se já existe uma entrada com o mesmo idAcao e Data\n",
        "    cursor.execute(\"SELECT idCotacao FROM Cotacao JOIN Acao ON Cotacao.idAcao = Acao.idAcao WHERE Acao.simbolo = ? AND Cotacao.Data = ?\", (simbolo, data))\n",
        "    resultado = cursor.fetchone()\n",
        "    \n",
        "    if resultado:\n",
        "        # Se já existe, atualizar os valores\n",
        "        id_cotacao = resultado[0]\n",
        "        cursor.execute(\"UPDATE Cotacao SET Cotacao=?, ValorMercado=?, VolumeTransacoes=?, Moeda=? WHERE idCotacao=?\", (cotacao, valor_mercado, volume_transacoes, moeda, id_cotacao))\n",
        "        print(f'{simbolo} atualizado com sucesso!')\n",
        "    else:\n",
        "        # Se não existe, inserir uma nova linha\n",
        "        cursor.execute(\"INSERT INTO Acao (simbolo, nome) VALUES (?, ?)\", (simbolo, nome))\n",
        "        id_acao = cursor.lastrowid\n",
        "        cursor.execute(\"INSERT INTO Cotacao (idAcao, Cotacao, ValorMercado, VolumeTransacoes, Moeda, Data) VALUES (?, ?, ?, ?, ?, ?)\",\n",
        "                        (id_acao, cotacao, valor_mercado, volume_transacoes, moeda, data))\n",
        "        print(f'{simbolo} inserido com sucesso!')\n",
        "    \n",
        "    conn.commit()\n",
        "    conn.close()\n",
        "\n",
        "# URL da API\n",
        "url_base = 'https://brapi.dev/api/'\n",
        "\n",
        "total_siglas = len(siglas)\n",
        "contador = 0\n",
        "\n",
        "# Faz a solicitação GET para cada sigla no dicionário \"siglas\"\n",
        "with open('siglas.json') as f:\n",
        "    siglas = json.load(f)['siglas']\n",
        "    for sigla in siglas:\n",
        "        contador += 1\n",
        "        url = url_base + 'quote/' + sigla\n",
        "        response = requests.get(url)\n",
        "        if response.status_code == 200:\n",
        "            data = json.loads(response.text)['results'][0]\n",
        "            simbolo = data.get('symbol')\n",
        "            nome = data.get('shortName')\n",
        "            cotacao = data.get('regularMarketPrice')\n",
        "            valor_mercado = data.get('marketCap')\n",
        "            volume_transacoes = data.get('regularMarketVolume')\n",
        "            moeda = data.get('currency')\n",
        "            data = datetime.fromisoformat(data['regularMarketTime'][:-1]).strftime('%Y-%m-%d %H:%M:%S')\n",
        "            inserir_cotacao_bd(simbolo, nome, cotacao, valor_mercado, volume_transacoes, moeda, data)\n",
        "            print(f'{simbolo} inserido com sucesso!')\n",
        "        else:\n",
        "            print(f'Erro ao consultar {sigla}')\n"
      ],
      "metadata": {
        "id": "tPXC6quGLnvH"
      },
      "execution_count": null,
      "outputs": []
    },
    {
      "cell_type": "markdown",
      "source": [
        "\n",
        "\n",
        "6.   Gera o PDF\n",
        "\n",
        "\n"
      ],
      "metadata": {
        "id": "8hwr3-cufSvZ"
      }
    },
    {
      "cell_type": "code",
      "source": [
        "# cria um objeto PDF\n",
        "pdf = FPDF()\n",
        "\n",
        "# adiciona uma página ao PDF\n",
        "pdf.add_page()\n",
        "\n",
        "# define o tamanho e a fonte do texto do cabeçalho\n",
        "pdf.set_font('Arial', 'B', 20)\n",
        "\n",
        "# adiciona o cabeçalho com o título\n",
        "pdf.cell(0, 10, 'Desafio Programador Protheus Unoesc', 0, 1, 'C')\n",
        "pdf.ln()\n",
        "\n",
        "# define o tamanho e a fonte do texto\n",
        "pdf.set_font('Arial', 'B', 16)\n",
        "\n",
        "# abre uma conexão com o banco de dados\n",
        "conn = sqlite3.connect('desafio_protheus.bd')\n",
        "\n",
        "# busca os dados no banco de dados\n",
        "cursor = conn.execute(\"SELECT simbolo, nome, Cotacao, ValorMercado, VolumeTransacoes, Moeda, Data FROM Acao INNER JOIN Cotacao ON Acao.idAcao = Cotacao.idAcao\")\n",
        "\n",
        "# percorre os resultados da consulta e adiciona ao PDF\n",
        "for row in cursor:\n",
        "    pdf.cell(40, 10, 'Símbolo: ' + row[0])\n",
        "    pdf.ln()\n",
        "    pdf.cell(40, 10, 'Nome: ' + str(row[1]))\n",
        "    pdf.ln()\n",
        "    pdf.cell(40, 10, 'Cotação: ' + str(row[2]))\n",
        "    pdf.ln()\n",
        "    pdf.cell(40, 10, 'Valor de Mercado: ' + str(row[3]))\n",
        "    pdf.ln()\n",
        "    pdf.cell(40, 10, 'Volume de Transações: ' + str(row[4]))\n",
        "    pdf.ln()\n",
        "    pdf.cell(40, 10, 'Moeda: ' + row[5])\n",
        "    pdf.ln()\n",
        "    pdf.cell(40, 10, 'Data: ' + row[6])\n",
        "    pdf.ln()\n",
        "    pdf.ln()\n",
        "\n",
        "# fecha a conexão com o banco de dados\n",
        "conn.close()\n",
        "\n",
        "# salva o PDF\n",
        "pdf.output('dados.pdf', 'F')\n"
      ],
      "metadata": {
        "id": "n-zSWfJBUTDK"
      },
      "execution_count": null,
      "outputs": []
    }
  ]
}